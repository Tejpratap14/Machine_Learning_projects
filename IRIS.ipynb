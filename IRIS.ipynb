

import numpy as np
import pandas as pd
import seaborn as sns
import matplotlib.pyplot as plt
import os

df =pd.read_csv("IRIS.csv")
df.head()

df.describe

df.info()

df['species'].value_counts()

df.isnull().sum()

df['sepal_length'].hist()

df['sepal_width'].hist()

df['petal_length'].hist()

df['petal_width'].hist()

colors =['red','orange','blue']
species =['Iris-setosa','Iris-virginica','Iris-versicolor']

for i in range(3):
   x =df[df['species'] == species[i]]
   plt.scatter(x['sepal_length'], x['sepal_width'], c=colors[i] ,label =species[i])
plt.xlabel("sepal_length") 
plt.ylabel("sepal_width")  
plt.legend()

for i in range(3):
   x =df[df['species'] == species[i]]
   plt.scatter(x['petal_length'], x['petal_width'], c=colors[i] ,label =species[i])
plt.xlabel("petal_length") 
plt.ylabel("petal_width")  
plt.legend()

for i in range(3):
   x =df[df['species'] == species[i]]
   plt.scatter(x['sepal_length'], x['petal_width'], c=colors[i] ,label =species[i])
plt.xlabel("sepal_length") 
plt.ylabel("petal_width")  
plt.legend()

for i in range(3):
   x =df[df['species'] == species[i]]
   plt.scatter(x['sepal_length'], x['petal_length'], c=colors[i] ,label =species[i])
plt.xlabel("sepal_length") 
plt.ylabel("petal_length")  
plt.legend()

for i in range(3):
   x =df[df['species'] == species[i]]
   plt.scatter(x['petal_length'], x['petal_width'], c=colors[i] ,label =species[i])
plt.xlabel("petal_length") 
plt.ylabel("petal_width")  
plt.legend()

df.corr()

corr =df.corr()
fig ,ax = plt.subplots(figsize =(10,10))
sns.heatmap(corr,annot= True,ax =ax,cmap ='coolwarm')

from sklearn.preprocessing import LabelEncoder
le =LabelEncoder()

df['species']= le.fit_transform(df['species'])
df.head()

from sklearn.model_selection import train_test_split
# train -70
# test -30
X =df.drop(columns=['species'])
Y =df['species']
x_train ,x_test ,y_train,y_test =train_test_split(X,Y, test_size =0.30)

from sklearn.linear_model import LogisticRegression
model =LogisticRegression()

model.fit(x_train, y_train)

print("Accuracy:",model.score(x_test,y_test)*100)

from sklearn.neighbors import KNeighborsClassifier
model =KNeighborsClassifier()

model.fit(x_train,y_train)

print("Accuracy:",model.score(x_test,y_test)*100)

from sklearn.tree import DecisionTreeClassifier
model =DecisionTreeClassifier()

model.fit(x_train,y_train)

print("Accuracy:",model.score(x_test,y_test)*100)
